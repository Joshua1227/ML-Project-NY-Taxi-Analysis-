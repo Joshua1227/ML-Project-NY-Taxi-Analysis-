{
  "cells": [
    {
      "metadata": {
        "_cell_guid": "a5e5cf94-d1dd-406a-837b-e50c7eaa797e",
        "_uuid": "394b19a07771c3e936cf3a75378442f834e3ff75"
      },
      "cell_type": "markdown",
      "source": "<h1>New York City Trip Duration</h1>\n<subtitle>A Beginner's Perspective</subtitle>\n\n<h2> Introduction</h2>\n<p>The dataset contains data about the taxi services in New York City. The data is split into two parts <b>test.csv</b> and <b>train.csv</b> the roles of which are self-explanatory. The aim is to predict the duration of a taxi trip based on certain parameters such as: <b> Pickup location, drop-off location, pickup date and time, number of passengers, vendor</b> etc. The impact of these factors on the trip duration will be assessed using machine learning models and then the model will be used to predict a value for the trip duration.</p>\n\n<h2>Methodology</h2>\n"
    },
    {
      "metadata": {
        "_cell_guid": "86ac325e-75ca-4d10-a7de-bba04bd00593",
        "_kg_hide-input": false,
        "_uuid": "b604f659145981957f823360782249cfc723ff96",
        "_kg_hide-output": false,
        "trusted": false,
        "collapsed": true
      },
      "cell_type": "code",
      "source": "# This Python 3 environment comes with many helpful analytics libraries installed\n# It is defined by the kaggle/python docker image: https://github.com/kaggle/docker-python\n# For example, here's several helpful packages to load in \n\nimport numpy as np # linear algebra\nimport pandas as pd # data processing, CSV file I/O (e.g. pd.read_csv)\nimport seaborn as sns\nimport matplotlib.pyplot as plt\nimport time\nfrom sklearn.model_selection import train_test_split\nfrom sklearn.neural_network import MLPRegressor\nfrom sklearn.metrics import mean_squared_log_error as msle\n# Input data files are available in the \"../input/\" directory.\n# For example, running this (by clicking run or pressing Shift+Enter) will list the files in the input directory\n\nfrom subprocess import check_output\nprint(check_output([\"ls\", \"../input\"]).decode(\"utf8\"))\n\n# Any results you write to the current directory are saved as output.",
      "execution_count": null,
      "outputs": []
    },
    {
      "metadata": {
        "_cell_guid": "dae07cad-6427-4511-90a4-ce9d29f03b3e",
        "_uuid": "ce96dd0f7e84182ede2e116df74cbfcedb3ed29a",
        "trusted": false,
        "collapsed": true
      },
      "cell_type": "code",
      "source": "#Import training data\ntrain = pd.read_csv('../input/nyc-taxi-trip-duration/train.csv')\ntrain.head()",
      "execution_count": null,
      "outputs": []
    },
    {
      "metadata": {
        "_cell_guid": "c91b570d-9f2f-46fe-9af1-c21d8915b046",
        "_uuid": "190a9a1c990faeec43d92c390ff4735931fdee8f",
        "trusted": false,
        "collapsed": true
      },
      "cell_type": "code",
      "source": "train.info()",
      "execution_count": null,
      "outputs": []
    },
    {
      "metadata": {
        "_cell_guid": "7e48f94c-89ae-4793-adc5-d68155c739d7",
        "_uuid": "0850e165353a87b43b07ca91c40c9b06ec7e17f6",
        "trusted": false,
        "collapsed": true
      },
      "cell_type": "code",
      "source": "#Convert store_and_fwd_flag to categorical binary data. Also, datatype is converted to integer\ntrains = train.copy()\ntrains.loc[trains.store_and_fwd_flag == 'N', 'store_and_fwd_flag'] = 0\ntrains.loc[trains.store_and_fwd_flag == 'Y', 'store_and_fwd_flag'] = 1\ntrains['store_and_fwd_flag'] = pd.to_numeric(trains['store_and_fwd_flag'])\ntrains.info()",
      "execution_count": null,
      "outputs": []
    },
    {
      "metadata": {
        "_cell_guid": "c2b1ec0a-c0c8-41e1-b863-b742d8377bbc",
        "collapsed": true,
        "_uuid": "71896cfbc53cc0d80278c1af0c8016190b216fca",
        "trusted": false
      },
      "cell_type": "code",
      "source": "#Convert pickup and dropoff date_time to datetime format\ntrains['pickup_datetime'] = pd.to_datetime(trains.pickup_datetime)\ntrains['dropoff_datetime'] = pd.to_datetime(trains.dropoff_datetime)",
      "execution_count": null,
      "outputs": []
    },
    {
      "metadata": {
        "_cell_guid": "d6f6e6a6-72bb-4f5e-8ad4-33cf02047d69",
        "_uuid": "44aae24fe509c3926440105d18a5cde7a648681a",
        "trusted": false,
        "collapsed": true
      },
      "cell_type": "code",
      "source": "trains.info()",
      "execution_count": null,
      "outputs": []
    },
    {
      "metadata": {
        "_cell_guid": "f2b50183-c018-475a-82f6-780319dd5e57",
        "collapsed": true,
        "_uuid": "e41af0912f8f6d7230f7dddf2c538a0c19a1d5da",
        "trusted": false
      },
      "cell_type": "code",
      "source": "#import datetime as dt\nptime = trains.pickup_datetime.dt.hour*100+trains.pickup_datetime.dt.minute+trains.pickup_datetime.dt.second*0.01\n# %matplotlib inline\n# sns.set(style=\"white\", palette=\"muted\", color_codes=True)\n# f, axes = plt.subplots(1, 1, figsize=(11, 7), sharex=True)\n# sns.despine(left=True)\n# sns.distplot(ptime, axlabel = 'Pickup Time', label = 'Pickup Time', bins = 20, color=\"r\")\n# plt.setp(axes, yticks=[])\n# plt.tight_layout()\n# plt.show()",
      "execution_count": null,
      "outputs": []
    },
    {
      "metadata": {
        "_cell_guid": "2fdcfa25-7d4f-482a-a6b3-ac95ac420895",
        "collapsed": true,
        "_uuid": "57e128f378f494595327d1e3307b2648c1edbd4e",
        "trusted": false
      },
      "cell_type": "code",
      "source": "trains.loc[:, 'pickup_time'] = ptime",
      "execution_count": null,
      "outputs": []
    },
    {
      "metadata": {
        "_cell_guid": "db472534-f771-4898-a319-3cac46e6e2ce",
        "_uuid": "918b935c424a3ed433bdebb5bfee80ac811df333"
      },
      "cell_type": "markdown",
      "source": ""
    },
    {
      "metadata": {
        "_cell_guid": "c1ca1c49-18b2-41f9-a86f-52e1fddeecc7",
        "collapsed": true,
        "_uuid": "30e7a1efa399aa8d6744f16f97a67e3b382a2b42",
        "trusted": false
      },
      "cell_type": "code",
      "source": "# differ = (trains.dropoff_datetime - trains.pickup_datetime).dt.total_seconds() - trains.trip_duration\n# sns.distplot(np.log10(differ.loc[((trains.dropoff_datetime - trains.pickup_datetime).dt.total_seconds()- trains.trip_duration)!=0]))",
      "execution_count": null,
      "outputs": []
    },
    {
      "metadata": {
        "_cell_guid": "31d77e5d-c038-441e-833a-f1536e4c35c8",
        "collapsed": true,
        "_uuid": "1219e43b0b05e4bad3002e22796bdbba79eb93ff",
        "trusted": false
      },
      "cell_type": "code",
      "source": "def haversine_(lat1, lng1, lat2, lng2):\n    \"\"\"function to calculate haversine distance between two co-ordinates\"\"\"\n    lat1, lng1, lat2, lng2 = map(np.radians, (lat1, lng1, lat2, lng2))\n    AVG_EARTH_RADIUS = 6371  # in km\n    lat = lat2 - lat1\n    lng = lng2 - lng1\n    d = np.sin(lat * 0.5) ** 2 + np.cos(lat1) * np.cos(lat2) * np.sin(lng * 0.5) ** 2\n    h = 2 * AVG_EARTH_RADIUS * np.arcsin(np.sqrt(d))\n    return(h)",
      "execution_count": null,
      "outputs": []
    },
    {
      "metadata": {
        "_cell_guid": "9d51cfbc-358b-47cf-8fc9-8313c2410d73",
        "collapsed": true,
        "_uuid": "21a8e7bc72a0354fc6d115313dbf6c4a10dbac87",
        "trusted": false
      },
      "cell_type": "code",
      "source": "# %matplotlib inline\n# sns.set(style=\"white\", palette=\"muted\", color_codes=True)\n# f, axes = plt.subplots(1, 1, figsize=(11, 7), sharex=True)\n# sns.despine(left=True)\n# sns.distplot(np.log10(trains.trip_duration), axlabel = 'log10(Trip Duration)', label = 'Trip Duration', bins = 50, color=\"b\")\n# plt.setp(axes, yticks=[])\n# plt.tight_layout()\n# plt.show()",
      "execution_count": null,
      "outputs": []
    },
    {
      "metadata": {
        "_cell_guid": "725881a6-8023-4be0-9f75-7b2e7657a78c",
        "collapsed": true,
        "_uuid": "41d8321f847758443297d8fd2a4a808bdcce9019",
        "trusted": false
      },
      "cell_type": "code",
      "source": "# trains.trip_duration.describe()",
      "execution_count": null,
      "outputs": []
    },
    {
      "metadata": {
        "_cell_guid": "d314ec1d-1dd5-4a03-a983-40fcb26226ae",
        "collapsed": true,
        "_uuid": "1497ff36321b305191d97b9427ac468717db6385",
        "trusted": false
      },
      "cell_type": "code",
      "source": "# %matplotlib inline\n# sns.set(style=\"white\", palette=\"muted\", color_codes=True)\n# f, axes = plt.subplots(1, 1, figsize=(11, 7), sharex=True)\n# sns.despine(left=True)\n# sns.distplot(np.log10(trains_drop1.trip_duration), axlabel = 'log10(Trip Duration)', label = 'Trip Duration', bins = 50, color=\"b\")\n# plt.setp(axes, yticks=[])\n# plt.tight_layout()\n# plt.show()",
      "execution_count": null,
      "outputs": []
    },
    {
      "metadata": {
        "_cell_guid": "334a2d04-8ed2-4d49-87d6-153173f741cc",
        "collapsed": true,
        "_uuid": "c5a861c1091c5992680e65ba246aaaa806a6ef9a",
        "trusted": false
      },
      "cell_type": "code",
      "source": "# sns.set(style=\"white\", palette=\"muted\", color_codes=True)\n# f, axes = plt.subplots(2,2,figsize=(10, 10), sharex=False, sharey = False)\n# sns.despine(left=True)\n# sns.distplot(trains_drop1['pickup_latitude'].values, label = 'pickup_latitude',color=\"m\",bins = 100, ax=axes[0,0])\n# sns.distplot(trains_drop1['pickup_longitude'].values, label = 'pickup_longitude',color=\"m\",bins =100, ax=axes[0,1])\n# sns.distplot(trains_drop1['dropoff_latitude'].values, label = 'dropoff_latitude',color=\"m\",bins =100, ax=axes[1, 0])\n# sns.distplot(trains_drop1['dropoff_longitude'].values, label = 'dropoff_longitude',color=\"m\",bins =100, ax=axes[1, 1])\n# plt.setp(axes, yticks=[])\n# plt.tight_layout()\n# plt.show()",
      "execution_count": null,
      "outputs": []
    },
    {
      "metadata": {
        "_cell_guid": "9d740cea-d447-41e5-8dbe-50401a8d388c",
        "collapsed": true,
        "_uuid": "fd87181c5e4b251d9e0914b24f6f9e730498b67b",
        "trusted": false
      },
      "cell_type": "code",
      "source": "# objects = trains_drop1['vendor_id'].unique()\n# y_pos = np.arange(len(objects))\n# performance = trains['vendor_id'].value_counts()\n# plt.bar(y_pos, performance, align='center', alpha=0.5, color = ['b','r'])\n# plt.xticks(y_pos, objects)\n# plt.ylabel('Number of trips')\n# plt.title('Vendor_ID') \n# plt.show()",
      "execution_count": null,
      "outputs": []
    },
    {
      "metadata": {
        "_cell_guid": "53f7695a-01fe-4ed3-b7dd-7a5e9680f3ef",
        "collapsed": true,
        "_uuid": "ac2a054ba947d7a39de4863b8a921f5e049a1646",
        "trusted": false
      },
      "cell_type": "code",
      "source": "# objects = trains_drop1['store_and_fwd_flag'].unique()\n# y_pos = np.arange(len(objects))\n# performance = trains['store_and_fwd_flag'].value_counts()\n# plt.bar(y_pos, np.log10(performance), align='center', alpha=0.5, color = ['b','r'])\n# plt.xticks(y_pos, objects)\n# plt.ylabel('Number of flags')\n# plt.title('store_and_fwd_flag') \n# plt.show()",
      "execution_count": null,
      "outputs": []
    },
    {
      "metadata": {
        "_cell_guid": "42be423c-9dbb-4088-9fb5-a0ef93619aa2",
        "_uuid": "355e6ac7dd5a6b1159a1e1a1546aaf678403ebee",
        "trusted": false,
        "collapsed": true
      },
      "cell_type": "code",
      "source": "trains.info()",
      "execution_count": null,
      "outputs": []
    },
    {
      "metadata": {
        "_cell_guid": "ae7948a5-e70b-4ddc-a8e0-ee1d1dd1160b",
        "_uuid": "9e1822478f44760c52e5fb91de237c127070fd1a"
      },
      "cell_type": "markdown",
      "source": "#Removing Outliers (Cleaning)"
    },
    {
      "metadata": {
        "_cell_guid": "fde9f1a8-9eb0-4f06-8fdc-28bcaea247b5",
        "_uuid": "c0cac4baea550daece328760c28bbf5e1e4a0e90",
        "trusted": false,
        "collapsed": true
      },
      "cell_type": "code",
      "source": "trains.loc[trains.trip_duration<=120]",
      "execution_count": null,
      "outputs": []
    },
    {
      "metadata": {
        "_cell_guid": "6ec9440c-ed37-4fb7-8c91-503ee625d8a5",
        "collapsed": true,
        "_uuid": "4dce6d401d5dcf130332b1dee3333eba79195e4b",
        "trusted": false
      },
      "cell_type": "code",
      "source": "new_trains=trains.loc[(trains.trip_duration>=120) & (trains.trip_duration<=32400)]",
      "execution_count": null,
      "outputs": []
    },
    {
      "metadata": {
        "_cell_guid": "99c02904-e5ca-4fa7-95b3-f2f3e4608994",
        "_uuid": "82821d7facceeaf89fe69d7a5c2d88f5a8ca5592",
        "trusted": false,
        "collapsed": true
      },
      "cell_type": "code",
      "source": "new_trains.head()",
      "execution_count": null,
      "outputs": []
    },
    {
      "metadata": {
        "_cell_guid": "da89b2c7-5f52-45cb-933d-c438854398e4",
        "_uuid": "6a81d2549e74fb813a0843e0cf4b07f061293625"
      },
      "cell_type": "markdown",
      "source": "***Adding Additional Features***"
    },
    {
      "metadata": {
        "_cell_guid": "4c58f767-a713-4a5b-9d6c-2813727a56a1",
        "_uuid": "83a5351d902e6e9dc9cd5efd4c5c8d7bf8c17ab3",
        "trusted": false,
        "collapsed": true
      },
      "cell_type": "code",
      "source": "lon1 = new_trains['pickup_longitude']\nlat1 = new_trains['pickup_latitude']\nlon2 = new_trains['dropoff_longitude']\nlat2 = new_trains['dropoff_latitude']\nnew_trains['haversine'] = haversine_(lon1,lat1,lon2,lat2)",
      "execution_count": null,
      "outputs": []
    },
    {
      "metadata": {
        "_cell_guid": "5fc923c6-52ea-4964-a225-e984f3957c98",
        "collapsed": true,
        "_uuid": "66bb5410df7b3af40bfcbbe1294a8392392001aa",
        "trusted": false
      },
      "cell_type": "code",
      "source": "new_trains=new_trains.loc[new_trains.haversine!=0]",
      "execution_count": null,
      "outputs": []
    },
    {
      "metadata": {
        "_cell_guid": "6d655f08-77c1-4b4f-97cf-0fd35bf5b783",
        "collapsed": true,
        "_uuid": "18f372e1c5114f46bd7751613690263a5776f534",
        "trusted": false
      },
      "cell_type": "code",
      "source": "new_trains.loc[:, 'pick_month'] = new_trains['pickup_datetime'].dt.month\nnew_trains.loc[:, 'week_of_year'] = new_trains['pickup_datetime'].dt.weekofyear\nnew_trains.loc[:, 'day_of_year'] = new_trains['pickup_datetime'].dt.dayofyear\nnew_trains.loc[:, 'day_of_week'] = new_trains['pickup_datetime'].dt.dayofweek",
      "execution_count": null,
      "outputs": []
    },
    {
      "metadata": {
        "_cell_guid": "e25bf770-27f7-4751-a5d4-47ba125344f8",
        "collapsed": true,
        "_uuid": "e11043ba1f7d14c2018dd53981526e204cb80ecb",
        "trusted": false
      },
      "cell_type": "code",
      "source": "",
      "execution_count": null,
      "outputs": []
    },
    {
      "metadata": {
        "_cell_guid": "d4888bba-5597-45a5-9ea8-0b6bc407e2ff",
        "collapsed": true,
        "_uuid": "47763bf3716629c9cbc0329840be34b188c2ed02",
        "trusted": false
      },
      "cell_type": "code",
      "source": "",
      "execution_count": null,
      "outputs": []
    },
    {
      "metadata": {
        "_cell_guid": "50bd4958-3bce-410b-8b82-ef68f05e382d",
        "collapsed": true,
        "_uuid": "c2a68ef852c05853650d9cef4d692bb00b1bba6a",
        "trusted": false
      },
      "cell_type": "code",
      "source": "# new_trains.columns",
      "execution_count": null,
      "outputs": []
    },
    {
      "metadata": {
        "_cell_guid": "a0645433-b856-4829-a136-56a32c5088c5",
        "_uuid": "7a5f1eee87a0cc056da654da0252d4c0007a8c61"
      },
      "cell_type": "markdown",
      "source": "***Sampling And Model Training***"
    },
    {
      "metadata": {
        "_cell_guid": "5830a8ae-6af7-4ff0-8402-d58b19f670e4",
        "_uuid": "f03046165a5b1297f3a7a54bf7f39aee76a78f86",
        "trusted": false,
        "collapsed": true
      },
      "cell_type": "code",
      "source": "X_train_ann = new_trains[['vendor_id','pickup_longitude', 'pickup_latitude',\n                       'dropoff_longitude', 'dropoff_latitude','pickup_time','haversine', 'pick_month',\n       'week_of_year', 'day_of_year', 'day_of_week']]\nX_train_ann.describe()",
      "execution_count": null,
      "outputs": []
    },
    {
      "metadata": {
        "_cell_guid": "748fe543-8042-4216-947a-fcfb8324c0ed",
        "_uuid": "cbcef715cfdf6e28aff79029f6211e7033387845",
        "trusted": false,
        "collapsed": true
      },
      "cell_type": "code",
      "source": "y_train_ann = new_trains['trip_duration']\ny_train_ann.describe()",
      "execution_count": null,
      "outputs": []
    },
    {
      "metadata": {
        "_cell_guid": "0fe22fb3-4bc2-4113-8b31-467fbf3ef8eb",
        "collapsed": true,
        "_uuid": "37ea394f7e4934ecf0bc4fed5b9755ca884760a6",
        "trusted": false
      },
      "cell_type": "code",
      "source": "X_train_1, X_test_1, y_train_1, y_test_1 = train_test_split(X_train_ann, y_train_ann, test_size=0.2, random_state=60)",
      "execution_count": null,
      "outputs": []
    },
    {
      "metadata": {
        "_cell_guid": "629e8290-22e9-4d4b-baae-df69e3703b03",
        "collapsed": true,
        "_uuid": "fa26965ad9a25e9ac5017a6c40d2958191a6b1b2",
        "trusted": false
      },
      "cell_type": "code",
      "source": "\nnn = MLPRegressor(\nhidden_layer_sizes=(10,2),  activation='relu', solver='adam', alpha=0.001, batch_size='auto',\nlearning_rate='constant', learning_rate_init=0.01, power_t=0.5, max_iter=1000, shuffle=True,\nrandom_state=9, tol=0.0001, verbose=False, warm_start=False, momentum=0.9, nesterovs_momentum=True,\nearly_stopping=False, validation_fraction=0.1, beta_1=0.9, beta_2=0.999, epsilon=1e-08)\n\n              ",
      "execution_count": null,
      "outputs": []
    },
    {
      "metadata": {
        "_cell_guid": "95d5f586-91f6-4fdf-9154-097bb0c0c6ef",
        "collapsed": true,
        "_uuid": "ec2b5fa9c407f214f07e93b45b28f25ba500080b",
        "_kg_hide-output": false,
        "trusted": false
      },
      "cell_type": "code",
      "source": "start=time.time()\nn = nn.fit(X_train_1, y_train_1)\nend=time.time()\n",
      "execution_count": null,
      "outputs": []
    },
    {
      "metadata": {
        "_cell_guid": "138bdda3-4400-445c-ad04-0e934ae19859",
        "_uuid": "af0c2236c0a2e9588b808a93df027ab8a07c7240",
        "trusted": false,
        "collapsed": true
      },
      "cell_type": "code",
      "source": "print(\"Time Taken In Fitting: \",end-start)",
      "execution_count": null,
      "outputs": []
    },
    {
      "metadata": {
        "_cell_guid": "918d07a0-d013-4eae-96d3-e1bab037fe01",
        "_uuid": "92f65b8ee32213fcd47989c9777fe31256085be0",
        "trusted": false,
        "collapsed": true
      },
      "cell_type": "code",
      "source": "rough = nn.predict(X_test_1)\nmsle(y_test_1,rough)",
      "execution_count": null,
      "outputs": []
    },
    {
      "metadata": {
        "_cell_guid": "3da9a330-1f5c-473b-8175-307f5c4a1252",
        "_uuid": "c64a3255df4d78f71eea61506a24e0fdc1f2ccc7"
      },
      "cell_type": "markdown",
      "source": "***USING OSRM DATA***"
    },
    {
      "metadata": {
        "_cell_guid": "e7d6c534-82fc-4eb0-bcf2-47e4d91f9d2c",
        "collapsed": true,
        "_uuid": "10eeba8181e7d4a074e444a89503d5c7c6e1e01c",
        "trusted": false
      },
      "cell_type": "code",
      "source": "# train_osrm_1 = pd.read_csv('../input/new-york-city-taxi-with-osrm/fastest_routes_train_part_1.csv')\n# train_osrm_2 = pd.read_csv('../input/new-york-city-taxi-with-osrm/fastest_routes_train_part_2.csv')\n# train_osrm = pd.concat([train_osrm_1, train_osrm_2])\n# train_osrm = train_osrm[['id', 'total_distance', 'total_travel_time', 'number_of_steps']]\n# train_df = pd.read_csv('../input/new-york-city-taxi-with-osrm/train.csv')\n# train_osrm = pd.merge(train_df, train_osrm, on = 'id', how = 'left')",
      "execution_count": null,
      "outputs": []
    },
    {
      "metadata": {
        "_cell_guid": "65476259-87d0-4988-80cc-e2094e64e7ba",
        "collapsed": true,
        "_uuid": "a76cf6aa2f856b5c0241b393a97ccba6f78205c1",
        "trusted": false
      },
      "cell_type": "code",
      "source": "# train_osrm.info()",
      "execution_count": null,
      "outputs": []
    },
    {
      "metadata": {
        "_cell_guid": "004eb31a-7e1c-42eb-ba92-99aa5ec12e9c",
        "collapsed": true,
        "_uuid": "5fc15703094b1ede6e929fd46d31d0e156f8b365",
        "_kg_hide-output": true,
        "trusted": false
      },
      "cell_type": "code",
      "source": "# train_osrm.loc[train_osrm.store_and_fwd_flag == 'N', 'store_and_fwd_flag'] = 0\n# train_osrm.loc[train_osrm.store_and_fwd_flag == 'Y', 'store_and_fwd_flag'] = 1\n# train_osrm['store_and_fwd_flag'] = pd.to_numeric(train_osrm['store_and_fwd_flag'])\n",
      "execution_count": null,
      "outputs": []
    },
    {
      "metadata": {
        "_cell_guid": "1b2bc2d8-4e51-48b1-9cea-c7a8d6a4dcdf",
        "collapsed": true,
        "_uuid": "925ea03b4abfd73b110f6ac82aefcd77bc28f852",
        "_kg_hide-output": true,
        "trusted": false
      },
      "cell_type": "code",
      "source": "# train_osrm['pickup_datetime'] = pd.to_datetime(train_osrm.pickup_datetime)\n# train_osrm['dropoff_datetime'] = pd.to_datetime(train_osrm.dropoff_datetime)\n\n# ptime = train_osrm.pickup_datetime.dt.hour*100+train_osrm.pickup_datetime.dt.minute+train_osrm.pickup_datetime.dt.second*0.01\n# train_osrm.loc[:, 'pickup_time'] = ptime",
      "execution_count": null,
      "outputs": []
    },
    {
      "metadata": {
        "_cell_guid": "e46f184c-ca21-48eb-8adf-15714fe8cf5d",
        "collapsed": true,
        "_uuid": "a1d76a0e6531d5aa91a36d34467fe56b63b696a3",
        "trusted": false
      },
      "cell_type": "code",
      "source": "# new_train_osrm=train_osrm.loc[(train_osrm.trip_duration>=120) & (train_osrm.trip_duration<=32400)]",
      "execution_count": null,
      "outputs": []
    },
    {
      "metadata": {
        "_cell_guid": "8a6f9619-15ec-4cbb-9c8a-69b36c38e337",
        "collapsed": true,
        "_uuid": "62891bb84dc166eacb8dd38608c04d1b342268de",
        "trusted": false
      },
      "cell_type": "code",
      "source": "# lon1 = new_train_osrm['pickup_longitude']\n# lat1 = new_train_osrm['pickup_latitude']\n# lon2 = new_train_osrm['dropoff_longitude']\n# lat2 = new_train_osrm['dropoff_latitude']\n# new_train_osrm['haversine'] = haversine_(lon1,lat1,lon2,lat2)\n# new_train_osrm=new_train_osrm.loc[new_train_osrm.haversine!=0]\n# new_train_osrm.loc[:, 'pick_month'] = new_train_osrm['pickup_datetime'].dt.month\n# new_train_osrm.loc[:, 'week_of_year'] = new_train_osrm['pickup_datetime'].dt.weekofyear\n# new_train_osrm.loc[:, 'day_of_year'] = new_train_osrm['pickup_datetime'].dt.dayofyear\n# new_train_osrm.loc[:, 'day_of_week'] = new_train_osrm['pickup_datetime'].dt.dayofweek",
      "execution_count": null,
      "outputs": []
    },
    {
      "metadata": {
        "_cell_guid": "7009a06d-0777-47d4-910b-8ac9d959855a",
        "collapsed": true,
        "_uuid": "a1901440eeeb12db83e5e3924b3a40370ff64dd5",
        "trusted": false
      },
      "cell_type": "code",
      "source": "# new_train_osrm=new_train_osrm.loc[(new_train_osrm.passenger_count!=0)]",
      "execution_count": null,
      "outputs": []
    },
    {
      "metadata": {
        "_cell_guid": "a5db0c52-4252-4614-9789-49e35d82ca49",
        "collapsed": true,
        "_uuid": "f261f95fba5f7f5c75769ab8dd866dc115331c74",
        "trusted": false
      },
      "cell_type": "code",
      "source": "# new_train_osrm.columns",
      "execution_count": null,
      "outputs": []
    },
    {
      "metadata": {
        "_cell_guid": "6f0eacc8-a14b-4968-a9ee-5f9b357c11e1",
        "collapsed": true,
        "_uuid": "6191f1871ea6defc6f1315fbaf286ae6d60153e2",
        "trusted": false
      },
      "cell_type": "code",
      "source": "# X_train_ann = new_train_osrm[['vendor_id','pickup_longitude', 'pickup_latitude',\n#                        'dropoff_longitude', 'dropoff_latitude','total_distance',\n#        'pickup_time','haversine', 'pick_month',\n#        'week_of_year', 'day_of_year', 'day_of_week']]\n# y_train_ann = new_train_osrm['trip_duration']\n# X_train_1, X_test_1, y_train_1, y_test_1 = train_test_split(X_train_ann, y_train_ann, test_size=0.2, random_state=60)",
      "execution_count": null,
      "outputs": []
    },
    {
      "metadata": {
        "_cell_guid": "b0fd2f0a-0ae9-4037-83e1-86977e2cde95",
        "collapsed": true,
        "_uuid": "b6674617612e59bdfa68bf1449ea16f8526c1b8a",
        "trusted": false
      },
      "cell_type": "code",
      "source": "\n# nn = MLPRegressor(\n# hidden_layer_sizes=(10,2),  activation='relu', solver='adam', alpha=0.001, batch_size='auto',\n# learning_rate='constant', learning_rate_init=0.01, power_t=0.5, max_iter=1000, shuffle=True,\n# random_state=9, tol=0.0001, verbose=False, warm_start=False, momentum=0.9, nesterovs_momentum=True,\n# early_stopping=False, validation_fraction=0.1, beta_1=0.9, beta_2=0.999, epsilon=1e-08)\n\n              ",
      "execution_count": null,
      "outputs": []
    },
    {
      "metadata": {
        "_cell_guid": "8d54dd96-a57b-4339-8708-721f4125948a",
        "collapsed": true,
        "_uuid": "92bbe122562402a5a283b4af06805ccc4d61425e",
        "trusted": false
      },
      "cell_type": "code",
      "source": "# start=time.time()\n# n = nn.fit(X_train_1, y_train_1)\n# end=time.time()\n",
      "execution_count": null,
      "outputs": []
    },
    {
      "metadata": {
        "_cell_guid": "2dcf20fa-8427-4008-972b-618350642e48",
        "collapsed": true,
        "_uuid": "3362c314d068d615acbae352235e1c69f33231c7",
        "trusted": false
      },
      "cell_type": "code",
      "source": "# print(\"Time Taken In Fitting: \",end-start)",
      "execution_count": null,
      "outputs": []
    },
    {
      "metadata": {
        "_cell_guid": "da06a827-bbb5-481e-b6c7-96c3f1cfb347",
        "collapsed": true,
        "_uuid": "3e3c367f2f3c8d2209d2f213a7c3ba8a400baf92",
        "trusted": false
      },
      "cell_type": "code",
      "source": "# rough = nn.predict(X_test_1)\n# msle(y_test_1,rough)\n# rough",
      "execution_count": null,
      "outputs": []
    },
    {
      "metadata": {
        "_cell_guid": "121c4262-3c73-4fb2-be9d-06a982a73191",
        "_uuid": "ae157856c68bc2918b94da27e08136915b3e416f"
      },
      "cell_type": "markdown",
      "source": "***Testing & Prediction***"
    },
    {
      "metadata": {
        "_cell_guid": "e22ba616-f677-4388-b59b-5d5e92af6842",
        "_uuid": "d42ad3a99aae2fe38744962f9a471a01ca7770b7",
        "trusted": false,
        "collapsed": true
      },
      "cell_type": "code",
      "source": "test=pd.read_csv('../input/nyc-taxi-trip-duration/test.csv')\ntest.head()",
      "execution_count": null,
      "outputs": []
    },
    {
      "metadata": {
        "_cell_guid": "a5b077f7-36d2-43d4-b929-5df698a8d888",
        "collapsed": true,
        "_uuid": "1d39cdb3809328ec2ee94ef764b940498cefaae8",
        "_kg_hide-output": true,
        "trusted": false
      },
      "cell_type": "code",
      "source": "test.loc[test.store_and_fwd_flag == 'N', 'store_and_fwd_flag'] = 0\ntest.loc[test.store_and_fwd_flag == 'Y', 'store_and_fwd_flag'] = 1\ntest['store_and_fwd_flag'] = pd.to_numeric(test['store_and_fwd_flag'])\ntest['pickup_datetime'] = pd.to_datetime(test.pickup_datetime)\n",
      "execution_count": null,
      "outputs": []
    },
    {
      "metadata": {
        "_cell_guid": "b4aed2df-c6c8-4300-b61d-99517996cf10",
        "collapsed": true,
        "_uuid": "774fb73aed602e01075e04a0ae560077a9509277",
        "trusted": false
      },
      "cell_type": "code",
      "source": "ptime_test = test.pickup_datetime.dt.hour*100+test.pickup_datetime.dt.minute+test.pickup_datetime.dt.second*0.01\ntest.loc[:, 'pickup_time'] = ptime_test",
      "execution_count": null,
      "outputs": []
    },
    {
      "metadata": {
        "_cell_guid": "8328ce8b-3e2e-4b90-b2e9-47e4b5065e40",
        "_uuid": "506d0f3c5c0b71d96c9c93a547af8a42c596e892",
        "trusted": false,
        "collapsed": true
      },
      "cell_type": "code",
      "source": "test.info()",
      "execution_count": null,
      "outputs": []
    },
    {
      "metadata": {
        "_cell_guid": "4b370979-7afe-4374-bfe0-cb67f371eb9b",
        "collapsed": true,
        "_uuid": "0196e5915c715d9af897eeaa083ec549ba440bc4",
        "trusted": false
      },
      "cell_type": "code",
      "source": "lon1 = test['pickup_longitude']\nlat1 = test['pickup_latitude']\nlon2 = test['dropoff_longitude']\nlat2 = test['dropoff_latitude']\ntest['haversine'] = haversine_(lon1,lat1,lon2,lat2)\ntest.loc[:, 'pick_month'] = test['pickup_datetime'].dt.month\ntest.loc[:, 'hour'] = test['pickup_datetime'].dt.hour\ntest.loc[:, 'week_of_year'] = test['pickup_datetime'].dt.weekofyear\ntest.loc[:, 'day_of_year'] = test['pickup_datetime'].dt.dayofyear\ntest.loc[:, 'day_of_week'] = test['pickup_datetime'].dt.dayofweek",
      "execution_count": null,
      "outputs": []
    },
    {
      "metadata": {
        "_cell_guid": "f58335c6-f535-425a-be9a-17824289de86",
        "collapsed": true,
        "_uuid": "fc263380c1d001e94b9f24ee16cedda021ab6dc5",
        "trusted": false
      },
      "cell_type": "code",
      "source": "X_test_prediction=test[['vendor_id','pickup_longitude', 'pickup_latitude',\n                       'dropoff_longitude', 'dropoff_latitude','pickup_time','haversine', 'pick_month',\n       'week_of_year', 'day_of_year', 'day_of_week']]",
      "execution_count": null,
      "outputs": []
    },
    {
      "metadata": {
        "_cell_guid": "cd437131-a985-4dff-9b3b-1e1c63336c89",
        "_uuid": "d6a7b5a3d36e6f1e4a09db6fa2f67ce58c3746a4",
        "trusted": false,
        "collapsed": true
      },
      "cell_type": "code",
      "source": "X_test_prediction.info()",
      "execution_count": null,
      "outputs": []
    },
    {
      "metadata": {
        "_cell_guid": "6ea6fc17-5858-45dd-bfb9-615742804a94",
        "collapsed": true,
        "_uuid": "ebf72a5932d3e17bd905c21df1f5d69220fc89ac",
        "trusted": false
      },
      "cell_type": "code",
      "source": "y_test_predicted=nn.predict(X_test_prediction)",
      "execution_count": null,
      "outputs": []
    },
    {
      "metadata": {
        "_cell_guid": "ac98430a-ba8b-42c9-ac8d-a91e94a01981",
        "collapsed": true,
        "_uuid": "be271c2c79a5d58443dad1d458ab45616fd0c275",
        "trusted": false
      },
      "cell_type": "code",
      "source": "df_benchmark = pd.DataFrame()\ndf_benchmark['id'] = test['id']\ndf_benchmark['trip_duration'] = y_test_predicted",
      "execution_count": null,
      "outputs": []
    },
    {
      "metadata": {
        "_cell_guid": "bf39d7a4-b04d-4308-b15e-e5e0e435d2a3",
        "_uuid": "5bd157603840982b487814c91a0b4d0247758b8e",
        "trusted": false,
        "collapsed": true
      },
      "cell_type": "code",
      "source": "y_test_predicted",
      "execution_count": null,
      "outputs": []
    },
    {
      "metadata": {
        "_cell_guid": "29df722e-180c-452d-9467-60ea1fc5a43a",
        "collapsed": true,
        "_uuid": "be4287bde3f9bd2b21862bbfcaa7b97aacf633ff",
        "trusted": false
      },
      "cell_type": "code",
      "source": "df_benchmark.to_csv(\"sample_submission2.csv\",index=False)",
      "execution_count": null,
      "outputs": []
    },
    {
      "metadata": {
        "_cell_guid": "a04ff3e3-9c87-47f4-86a4-9922baf683fc",
        "collapsed": true,
        "_uuid": "8b51ac7de5c5e9ffbda1921fc3971eb91bb91404"
      },
      "cell_type": "markdown",
      "source": "#using OSRM "
    },
    {
      "metadata": {
        "_cell_guid": "b7028e53-3599-47c3-9457-2c19967b2d69",
        "collapsed": true,
        "_uuid": "34fdb3169476b7e8e7033e89e5a1e7f283ec6aaa",
        "trusted": false
      },
      "cell_type": "code",
      "source": "# test_df = pd.read_csv('../input/nyc-taxi-trip-duration/test.csv')\n# test_fr = pd.read_csv('../input/new-york-city-taxi-with-osrm/fastest_routes_test.csv')\n# test_fr_new = test_fr[['id', 'total_distance', 'total_travel_time', 'number_of_steps']]\n# test_df = pd.merge(test_df, test_fr_new, on = 'id', how = 'left')\n# test_df.head()",
      "execution_count": null,
      "outputs": []
    },
    {
      "metadata": {
        "_cell_guid": "4087ae96-3d94-46a6-88b0-f07991d6ce38",
        "collapsed": true,
        "_uuid": "5d025029b35607e801eed861390c82d70e6c45c5",
        "trusted": false
      },
      "cell_type": "code",
      "source": "# test_df.loc[test_df.store_and_fwd_flag == 'N', 'store_and_fwd_flag'] = 0\n# test_df.loc[test_df.store_and_fwd_flag == 'Y', 'store_and_fwd_flag'] = 1\n# test_df['store_and_fwd_flag'] = pd.to_numeric(test_df['store_and_fwd_flag'])\n\n# test_df['pickup_datetime'] = pd.to_datetime(test_df.pickup_datetime)\n# ptime = test_df.pickup_datetime.dt.hour*100+test_df.pickup_datetime.dt.minute+test_df.pickup_datetime.dt.second*0.01\n# test_df.loc[:, 'pickup_time'] = ptime",
      "execution_count": null,
      "outputs": []
    },
    {
      "metadata": {
        "_cell_guid": "7dd3c717-a620-4b9e-8b2e-22b80eed89a9",
        "collapsed": true,
        "_uuid": "5f568549cdf498db5370df04bea6f4bcd81585f8",
        "trusted": false
      },
      "cell_type": "code",
      "source": "# lon1 = test_df['pickup_longitude']\n# lat1 = test_df['pickup_latitude']\n# lon2 = test_df['dropoff_longitude']\n# lat2 = test_df['dropoff_latitude']\n# test_df['haversine'] = haversine_(lon1,lat1,lon2,lat2)\n# test_df=test_df.loc[test_df.haversine!=0]\n# test_df.loc[:, 'pick_month'] = test_df['pickup_datetime'].dt.month\n# test_df.loc[:, 'week_of_year'] = test_df['pickup_datetime'].dt.weekofyear\n# test_df.loc[:, 'day_of_year'] = test_df['pickup_datetime'].dt.dayofyear\n# test_df.loc[:, 'day_of_week'] = test_df['pickup_datetime'].dt.dayofweek",
      "execution_count": null,
      "outputs": []
    },
    {
      "metadata": {
        "_cell_guid": "14a86a97-9307-4d86-8e0d-81998490e30c",
        "collapsed": true,
        "_uuid": "b8ee7bd68e310574b3cc0c4fa30a0cb729a2b0fd",
        "trusted": false
      },
      "cell_type": "code",
      "source": "# X_test_prediction=test_df[['vendor_id','pickup_longitude', 'pickup_latitude',\n#                        'dropoff_longitude', 'dropoff_latitude','total_distance',\n#        'pickup_time','haversine', 'pick_month',\n#        'week_of_year', 'day_of_year', 'day_of_week']]",
      "execution_count": null,
      "outputs": []
    },
    {
      "metadata": {
        "_cell_guid": "45a65d8e-3c36-4d88-b859-3ab0760d180f",
        "collapsed": true,
        "_uuid": "ee643adeeefec578b77ed75174e92fe7589646b8",
        "trusted": false
      },
      "cell_type": "code",
      "source": "# y_test_predicted=nn.predict(X_test_prediction)",
      "execution_count": null,
      "outputs": []
    },
    {
      "metadata": {
        "_cell_guid": "c1394370-6561-4e1f-8559-e30b440df708",
        "collapsed": true,
        "_uuid": "d5ea32a44aaf352192c4acc3c32e9f718a34e0b8",
        "trusted": false
      },
      "cell_type": "code",
      "source": "# y_test_predicted",
      "execution_count": null,
      "outputs": []
    },
    {
      "metadata": {
        "_cell_guid": "d73a6926-e425-42ce-bd50-ddd58ce058be",
        "collapsed": true,
        "_uuid": "95b29bdd4c206f2df52129072965669b5aa406f2",
        "trusted": false
      },
      "cell_type": "code",
      "source": "# df_benchmark = pd.DataFrame()\n# df_benchmark['id'] = test_df['id']\n# df_benchmark['trip_duration'] = y_test_predicted\n# df_benchmark.to_csv(\"sample_submission3.csv\",index=False)",
      "execution_count": null,
      "outputs": []
    },
    {
      "metadata": {
        "_cell_guid": "4ca43c9c-c5d4-4209-ba61-c299709690d7",
        "collapsed": true,
        "_uuid": "dea0edd3b7a90fbe367bea23ca06ecb253359268",
        "trusted": false
      },
      "cell_type": "code",
      "source": "",
      "execution_count": null,
      "outputs": []
    }
  ],
  "metadata": {
    "kernelspec": {
      "display_name": "Python 3",
      "language": "python",
      "name": "python3"
    },
    "language_info": {
      "name": "python",
      "version": "3.6.5",
      "mimetype": "text/x-python",
      "codemirror_mode": {
        "name": "ipython",
        "version": 3
      },
      "pygments_lexer": "ipython3",
      "nbconvert_exporter": "python",
      "file_extension": ".py"
    }
  },
  "nbformat": 4,
  "nbformat_minor": 1
}